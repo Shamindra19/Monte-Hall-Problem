{
 "cells": [
  {
   "cell_type": "code",
   "execution_count": 9,
   "metadata": {},
   "outputs": [
    {
     "name": "stdout",
     "output_type": "stream",
     "text": [
      "Enter your choice :(0,1,2)1\n",
      "The door 0 is open for you\n",
      "\n",
      "Do you want to swap? y/ny\n",
      "player lose:;::\n",
      " BMW is in door 1\n",
      "\n",
      " 0\n",
      "\n",
      " 0\n"
     ]
    }
   ],
   "source": [
    "import random\n",
    "door=[0]*3\n",
    "goatdoor=[0]*2\n",
    "swap=0\n",
    "dontswap=0\n",
    "x=random.randint(0,2)\n",
    "door[x]=\"BMW\"\n",
    "for i in range(0,3):\n",
    "    if(i==x):\n",
    "        continue\n",
    "    else:\n",
    "        door[i]=\"Goat\"\n",
    "        goatdoor.append(i)\n",
    "choice=int(input(\"Enter your choice :(0,1,2)\"))\n",
    "opendoor=random.choice(goatdoor)\n",
    "while(opendoor==choice):\n",
    "    opendoor=random.choice(goatdoor)\n",
    "print(\"The door\",opendoor,\"is open for you\\n\")\n",
    "ch=input(\"Do you want to swap? y/n\")\n",
    "if(ch=='y'):\n",
    "    if(door[choice]==\"Goat\"):\n",
    "        print(\"player Wins!!!!!\")\n",
    "        swap=swap+1\n",
    "    else:\n",
    "        print(\"player lose:;::\\n\",door[x],\"is in door\",x)\n",
    "else:\n",
    "    if(door[choice]=='Goat'):\n",
    "        print(\"player lose:;:::\\n\",door[x],\"is in door\",x)\n",
    "        dontswap=dontswap+1\n",
    "    else:\n",
    "        print(\"player Wins!!!!!\")\n",
    "print(\"\\n\",swap)\n",
    "print(\"\\n\",dontswap)"
   ]
  },
  {
   "cell_type": "code",
   "execution_count": null,
   "metadata": {
    "scrolled": true
   },
   "outputs": [],
   "source": []
  },
  {
   "cell_type": "code",
   "execution_count": null,
   "metadata": {},
   "outputs": [],
   "source": []
  }
 ],
 "metadata": {
  "kernelspec": {
   "display_name": "Python 3",
   "language": "python",
   "name": "python3"
  },
  "language_info": {
   "codemirror_mode": {
    "name": "ipython",
    "version": 3
   },
   "file_extension": ".py",
   "mimetype": "text/x-python",
   "name": "python",
   "nbconvert_exporter": "python",
   "pygments_lexer": "ipython3",
   "version": "3.7.1"
  }
 },
 "nbformat": 4,
 "nbformat_minor": 2
}
